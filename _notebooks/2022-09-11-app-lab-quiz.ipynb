{
 "cells": [
  {
   "cell_type": "markdown",
   "metadata": {},
   "source": [
    "# Derivatives Quiz: Process\n",
    "\n",
    "> My derivatives quiz for AP Calculus, the process and successes I went through while making it in Applab\n",
    "\n",
    "- title: Derivatives Quiz\n",
    "- toc: true\n",
    "- categories: [applab]\n",
    "- categories: [collegeboard]\n",
    "- tags: [applab]"
   ]
  },
  {
   "cell_type": "markdown",
   "metadata": {},
   "source": [
    "## Link to Project\n",
    "[Project](https://studio.code.org/projects/applab/Yxq8JLTMe0XcOJuawEgNTwECRPO-t3F6VNlTiwCPq98)"
   ]
  },
  {
   "cell_type": "markdown",
   "metadata": {},
   "source": [
    "## Design\n",
    "The base concept was testing something I am currently working on in math that I need to memorize, that being the derivative of inverse trigonometric functions.\n",
    "\n",
    "#### Components\n",
    "- 6 questions\n",
    "- 2 hidden elements\n",
    "- If functions and variables\n",
    "- Lose screen, winning screen, hidden page, and the beginning page\n",
    "- Images for mathematical answers\n",
    "- Basic, eye pleasing graphics\n",
    "\n",
    "![]({{ site.baseurl }}/images/docx-working-0.png \"This shows my docx page functioning after changing to midnight theme\")\n",
    "![]({{ site.baseurl }}/images/docx-working-0.png \"This shows my docx page functioning after changing to midnight theme\")\n",
    "![]({{ site.baseurl }}/images/docx-working-0.png \"This shows my docx page functioning after changing to midnight theme\")\n",
    "\n",
    "#### Choices\n",
    "- Background colors were chosen to be mute so they did not distract from content, also chosen to be colors I like\n",
    "- Chose the first hidden function as a leftover from testing the different elements in the tool box, deciding to not delete one of my tests\n",
    "- Second hidden function was a way for me to try out canvas mode, and a fun way to not only be focused on calculus, spread through the quiz\n",
    "    - Also a method to experiment with if functions and variables\n",
    "- Canvas drawing was after seeing what it could do, and deciding to go out of bounds from what is normally done\n"
   ]
  },
  {
   "cell_type": "markdown",
   "metadata": {},
   "source": [
    "## Successes\n",
    "- Using variables and if functions\n",
    "- Using images as answers\n",
    "- Implementing hidden components\n",
    "- Creating quiz properly with score\n",
    "\n",
    "## Discoveries\n",
    "I discovered the canvas and how coordinates worked using it, as well as several ways to use functions\n",
    "\n",
    "## Challenges\n",
    "My main challenge was in attempting to automate the question format. However, after trying it the code screen broke (I am not sure if it was because of my computer or odd code) with no true error, even messing with the block format, I decided to go with the other route since we are not using this format again, and there was not much code to repeat, however I did learn a method in the future to implement this type situation, as I felt I was on the right path if the coding interface had not broken. My other minor challenges were in making sure each thing was named correctly so it was easy to find, and making sure everything was in a proper place that could be found if I went back to change code. "
   ]
  },
  {
   "cell_type": "markdown",
   "metadata": {},
   "source": [
    "## Different Concept\n",
    "I did not have the time to implement this, however making a mini game wherein it is a choose your own adventure would be plausible, maybe making a timeline using the canvas function. with the use of variables and \"onEvent\" many things can be created, as well as there conveniently being different screens. "
   ]
  }
 ],
 "metadata": {
  "kernelspec": {
   "display_name": "Python 3.9.12 ('base')",
   "language": "python",
   "name": "python3"
  },
  "language_info": {
   "name": "python",
   "version": "3.9.12"
  },
  "orig_nbformat": 4,
  "vscode": {
   "interpreter": {
    "hash": "289762bfef0c13eec96403755dc6a123221745d77b4e51a71a7ef5c7578571d1"
   }
  }
 },
 "nbformat": 4,
 "nbformat_minor": 2
}
