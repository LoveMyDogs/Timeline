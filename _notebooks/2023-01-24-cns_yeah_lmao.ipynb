{
 "cells": [
  {
   "cell_type": "code",
   "execution_count": null,
   "metadata": {},
   "outputs": [],
   "source": []
  },
  {
   "attachments": {},
   "cell_type": "markdown",
   "metadata": {},
   "source": [
    "Every invention in computer can be both beneficial and harmful\n",
    "chatgpt =, don't know how to monetize, can take money from google and artists.\n",
    "chatgpt presents the issue of bias that occurs with programs, only presenting one answer\n"
   ]
  },
  {
   "attachments": {},
   "cell_type": "markdown",
   "metadata": {},
   "source": [
    "Digital divide is that poor communities don't have access to devices, or internet\n",
    "Someone who works at google has extremely powerful machines, their own servers, amazing servers. "
   ]
  }
 ],
 "metadata": {
  "language_info": {
   "name": "python"
  },
  "orig_nbformat": 4
 },
 "nbformat": 4,
 "nbformat_minor": 2
}
