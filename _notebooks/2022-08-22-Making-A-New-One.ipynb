{
 "cells": [
  {
   "cell_type": "markdown",
   "metadata": {},
   "source": [
    "# Doing My Best\n",
    "\n",
    "- toc: true \n",
    "- badges: true\n",
    "- comments: true\n",
    "- description: First jupyter blog posts yaaaay\n",
    "- categories: [jupyter]"
   ]
  },
  {
   "cell_type": "code",
   "execution_count": 4,
   "metadata": {},
   "outputs": [
    {
     "name": "stdout",
     "output_type": "stream",
     "text": [
      "My dogs are really cute and lovable\n"
     ]
    }
   ],
   "source": [
    "#hide_input\n",
    "print(\"My dogs are really cute and lovable\")"
   ]
  },
  {
   "cell_type": "markdown",
   "metadata": {},
   "source": [
    "# Reasons"
   ]
  },
  {
   "cell_type": "markdown",
   "metadata": {},
   "source": [
    "- They are all very small and cuddly\n",
    "- They love me a lot and therefore I love them\n",
    "- When they run around they are adorable"
   ]
  },
  {
   "cell_type": "markdown",
   "metadata": {},
   "source": [
    "# Comparison\n",
    "Although other dogs may be more well behaved and less spoiled, it is my own fault that they are spoiled children and as such I'll spoil them more. Each dog is cutest to their owner. "
   ]
  },
  {
   "cell_type": "code",
   "execution_count": 5,
   "metadata": {},
   "outputs": [
    {
     "name": "stdout",
     "output_type": "stream",
     "text": [
      "hello\n",
      "4\n",
      "8\n",
      "12\n",
      "16\n"
     ]
    }
   ],
   "source": [
    "#hide_input\n",
    "print(\"hello\")\n",
    "print(2+2)\n",
    "print(4+4)\n",
    "print(6+6)\n",
    "print(8+8)\n"
   ]
  },
  {
   "cell_type": "code",
   "execution_count": null,
   "metadata": {},
   "outputs": [],
   "source": [
    "msg = input(\"Enter a greeting: \")\n",
    "print(msg)"
   ]
  },
  {
   "cell_type": "code",
   "execution_count": null,
   "metadata": {},
   "outputs": [],
   "source": [
    "import getpass, sys\n",
    "\n",
    "# This creates the function that I'll be using to create the quiz\n",
    "def question_and_answer(prompt):\n",
    "    print(\"Question: \" + prompt)\n",
    "    msg = input()\n",
    "    print(\"Answer: \" + msg)\n",
    "    \n",
    "def question_with_response(prompt):\n",
    "    print(\"Question: \" + prompt)\n",
    "    msg = input()\n",
    "    return msg\n",
    "\n",
    "# This creates the variables that will be used to calculate score\n",
    "questions = 5\n",
    "correct = 0\n",
    "\n",
    "# Introduces user to quiz\n",
    "print('Hello, ' + getpass.getuser() + \" running \" + sys.executable)\n",
    "print(\"You will be asked \" + str(questions) + \" questions.\")\n",
    "question_and_answer(\"Are you ready to take a test?\")\n",
    "\n",
    "# Starts quiz\n",
    "rsp = question_with_response(\"What is 9+9\")\n",
    "if rsp == \"18\":\n",
    "    print(rsp + \" is correct!\")\n",
    "    correct += 1\n",
    "else:\n",
    "    print(rsp + \" is incorrect!\")\n",
    "\n",
    "rsp = question_with_response(\"What is my favorite electronic device\")\n",
    "if rsp == \"computer\":\n",
    "    print(rsp + \" is correct!\")\n",
    "    correct += 1\n",
    "else:\n",
    "    print(rsp + \" is incorrect!\")\n",
    "\n",
    "rsp = question_with_response(\"Do you have any pets?\")\n",
    "if rsp == \"Yes\":\n",
    "    print(rsp + \" nice!\")\n",
    "    correct += 1\n",
    "else:\n",
    "    print(rsp + \" hrm\")\n",
    "    correct += 1\n",
    "\n",
    "rsp = question_with_response(\"Is this a fun quiz?\")\n",
    "if rsp == \"no\":\n",
    "    print(rsp + \" is correct!\")\n",
    "    correct += 1\n",
    "else:\n",
    "    print(rsp + \" herm\")\n",
    "    correct += 1\n",
    "\n",
    "rsp = question_with_response(\"I'll let you go free now, are you enthused?\")\n",
    "if rsp == \"Yes\":\n",
    "    print(rsp + \" hee, rude\")\n",
    "    correct += 1\n",
    "else:\n",
    "    print(rsp + \" welp\")\n",
    "    correct += 1\n",
    "\n",
    "# Tells user their score\n",
    "print(getpass.getuser() + \" you scored \" + str(correct) +\"/\" + str(questions))"
   ]
  },
  {
   "cell_type": "markdown",
   "metadata": {},
   "source": [
    "![]({{site.baseurl}}/images/vainillita.jpeg)"
   ]
  }
 ],
 "metadata": {
  "kernelspec": {
   "display_name": "Python 3.9.12 ('base')",
   "language": "python",
   "name": "python3"
  },
  "language_info": {
   "codemirror_mode": {
    "name": "ipython",
    "version": 3
   },
   "file_extension": ".py",
   "mimetype": "text/x-python",
   "name": "python",
   "nbconvert_exporter": "python",
   "pygments_lexer": "ipython3",
   "version": "3.9.12"
  },
  "orig_nbformat": 4,
  "vscode": {
   "interpreter": {
    "hash": "289762bfef0c13eec96403755dc6a123221745d77b4e51a71a7ef5c7578571d1"
   }
  }
 },
 "nbformat": 4,
 "nbformat_minor": 2
}
