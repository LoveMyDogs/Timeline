{
 "cells": [
  {
   "cell_type": "markdown",
   "metadata": {},
   "source": [
    "# AP Exam Problems\n",
    "\n",
    "- toc: true \n",
    "- badges: true\n",
    "- comments: true\n",
    "- description: AP Exam Multiple Choice Consideration\n",
    "- categories: [notebook]\n",
    "- tags: [notebook]"
   ]
  },
  {
   "cell_type": "markdown",
   "metadata": {},
   "source": [
    "## The Design and Development quiz\n",
    "\n",
    "![]({{ site.baseurl }}/images/mcq_design.png \"All of the questions are correct\")\n",
    "On this quiz I got all the questions correct after careful thought, I'm not exactly confident in my expertise in this area so I will explore the question below more. \n",
    "\n",
    "![]({{ site.baseurl }}/images/mcq_question_struggled_design.png \"A question I struggled with\")\n",
    "In this question I struggled a bit in understanding what was going on however after careful thought and a look through the options I understood, I am going to look more at this type of pseudo-code. "
   ]
  },
  {
   "cell_type": "markdown",
   "metadata": {},
   "source": [
    "## The Function and Purpose Quiz\n",
    "\n",
    "![]({{ site.baseurl }}/images/mcq_function_purpose.png \"The quiz on function and purpose, I got one question wrong\")\n",
    "In this quiz I got one question wrong, and I struggled a lot while doing it, however I did start understanding the concept more as I was doing it. I will show the question I got wrong below. \n",
    "\n",
    "![]({{ site.baseurl }}/images/mcq_question_wrong.png \"This is the question I got wrong\")\n",
    "I believe this was more me not understanding the situation and the data provided rather than not understanding code, so I might look at more situations and try to figure out their logic to improve my expertise in this area. \n",
    "\n",
    "\n"
   ]
  }
 ],
 "metadata": {
  "kernelspec": {
   "display_name": "Python 3.9.12 ('base')",
   "language": "python",
   "name": "python3"
  },
  "language_info": {
   "name": "python",
   "version": "3.9.12"
  },
  "orig_nbformat": 4,
  "vscode": {
   "interpreter": {
    "hash": "289762bfef0c13eec96403755dc6a123221745d77b4e51a71a7ef5c7578571d1"
   }
  }
 },
 "nbformat": 4,
 "nbformat_minor": 2
}
