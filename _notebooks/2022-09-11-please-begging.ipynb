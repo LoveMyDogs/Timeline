{
 "cells": [
  {
   "cell_type": "markdown",
   "metadata": {},
   "source": [
    "# Team Scrum Board Performance Task\n",
    "\n",
    "- toc: true \n",
    "- badges: true\n",
    "- comments: true\n",
    "- description: Creating a scrum board for our future project\n",
    "- categories: [scrumboard]\n",
    "- tags: [planning]"
   ]
  },
  {
   "cell_type": "markdown",
   "metadata": {},
   "source": [
    "## Main Concept:\n",
    "- Website will be mostly school based\n",
    "- There will be a Math, Physics, Volleyball, and Gacha section\n",
    "\n",
    "## For Math Section:\n",
    "- Will have AP Calculus as well as AP Statistics\n",
    "- Calculators, both for equations as well as normal calculations\n",
    "- Will have definitions as well as equations\n",
    "- For quizzes, there will be some for both AP Statistics and AP Calculus\n",
    "  - Both will have the page format: Start -> Question -> Incorrect page with how to solve/Correct page -> Repeats until last page\n",
    "\n",
    "## For Physics Section:\n",
    "- Very similar to the Math Section, but with Physics\n",
    "- Calculators for physics equations will be included, as well as definitions/terms\n",
    "- Will also have quizzes with the same format\n",
    "\n",
    "## For Volleyball Section\n",
    "- Mostly volleyball terms, strategies, and etc.\n",
    "- Will also have images explaining terms/strategies\n",
    "\n",
    "## For Gacha Section\n",
    "- Essentially a gacha calculator that gives random character pulls at a precent chance (likely using a print function)\n",
    "- Mostly just a 'For fun' section, may or may not get to this but it would be fun to include\n",
    "\n",
    "## Requirements\n",
    "- Knowledge of math\n",
    "- Knowledge of python math functions\n",
    "- Knowledge on quizzes\n",
    "- Knowledge of liquid for automation of certain portions\n",
    "- Probably other things as we flesh out the concept (will be decided later)\n",
    "\n",
    "## Current Ability\n",
    "At this point in time, we can already do the design and quiz portions, however the calculator for the math section and the gacha section will require us to learn more aspects of Python and Liquid\n",
    "There are probably other minute details we haven't noticed that we don't know how to do yet\n",
    "\n",
    "## Resources\n",
    "- We have Github, Google, VSCode, Youtube, Khan Academy, and the APCSP homepage to support us\n",
    "\n",
    "### Notes\n",
    "The reasoning we had for our website is that the math and science sections will support us in our studying and school lives, as well as help other students struggling in our school by providing them easy-to-access resources and learning materials. Volleyball stats will help us explore our interests while expanding our knowledge on computer science and its possibilities in many fields. The gacha section will help us learn more on probability and output for the end user, as well as being something fun to do to encourage us.\n",
    "\n",
    "## Work To Be Done\n",
    "At the moment we are only considering brainstorming which we will do together, and then we will divide everything amongst each other. We are also waiting for more expectations to be laid out"
   ]
  },
  {
   "cell_type": "markdown",
   "metadata": {},
   "source": [
    "meepmerpmeepmerp"
   ]
  }
 ],
 "metadata": {
  "kernelspec": {
   "display_name": "Python 3.9.12 ('base')",
   "language": "python",
   "name": "python3"
  },
  "language_info": {
   "name": "python",
   "version": "3.9.12"
  },
  "orig_nbformat": 4,
  "vscode": {
   "interpreter": {
    "hash": "289762bfef0c13eec96403755dc6a123221745d77b4e51a71a7ef5c7578571d1"
   }
  }
 },
 "nbformat": 4,
 "nbformat_minor": 2
}
