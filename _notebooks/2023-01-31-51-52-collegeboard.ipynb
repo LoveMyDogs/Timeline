{
 "cells": [
  {
   "attachments": {},
   "cell_type": "markdown",
   "metadata": {},
   "source": [
    "# Week 8 \n",
    "\n",
    "- title: Model and Object-Oriented Programming\n",
    "- toc: true\n",
    "- categories: []\n",
    "- image: /images/python.png\n",
    "- type: pbl\n",
    "- week: 18"
   ]
  },
  {
   "attachments": {},
   "cell_type": "markdown",
   "metadata": {},
   "source": [
    "# 5.1 and 5.2 Answers\n",
    "\n",
    "## Beneficial things\n",
    "1. Could reduce the stress and tire of students by making one thing easier for them\n",
    "2. Saves time for people who are busy with school or work\n",
    "3. Has an interface that could be used to gather data that is available to the people\n",
    "\n",
    "## Harmful thing\n",
    "I believe that our storing of data could be harmful, as you could potentially see the economic or social position of a person by the car they choose, and you could use this against them or to hurt htem\n",
    "\n",
    "## Pros and Cons\n",
    "I believe a pro of this could be controlling students to not be distracted, and making sure they are not doing dangerous things that could be potentially be used against the school, and a con is a lack of control in students, not allowing students to do things in classes like this, and limiting access to resources that could be used for school\n",
    "\n",
    "## Digital Divide\n",
    "I have pretty large concerns about digital divide, I feel that it shows another part of the growing inequality in the world, and this lack of resources gives yet another way for the rich to grow above those who are underprivileged. Personally I'm on a pretty good scale with pretty good resources, and hate that others can't have the same amount of stuff that I do."
   ]
  },
  {
   "attachments": {},
   "cell_type": "markdown",
   "metadata": {},
   "source": [
    "## Collegeboard MCQ 2\n",
    "\n",
    "I got a 47/50, The answers I got wrong are below\n",
    "\n",
    "\n",
    "### 1st Wrong Question\n",
    "Q34 binary search on a list of 500 elements\n",
    "\n",
    "A sorted list of numbers contains 500 elements. Which of the following is closest to the maximum number of list elements that will be examined when performing a binary search for a value in the list?\n",
    "\n",
    "I answered 250 while the actual answer was 10, this was a misconception on my part and my knowledge on binary search, and I looked into what it actually is after the test\n",
    "\n",
    "### 2nd Wrong Question\n",
    "Q30 Consider the following procedure.\n",
    "\n",
    "The figure presents the graph of three circles, one small, one medium, and one large, in the first quadrant of a coordinate plane with the origin labeled O. The x and y axes each have the numbers 1 through 8 indicated.  The largest circle is centered at the coordinates 4 comma 4 and has a radius of 3 units. The medium size circle is centered at the coordinates 4 comma 3 and has a radius of 2 units. The smallest circle is centered at the coordinates 4 comma 2 and has a radius of 1 unit.\n",
    "Which of the following code segments can be used to draw the figure?\n",
    "\n",
    "Select two answers.\n",
    "\n",
    "On this one I accidentally chose 3 answers instead of just 2, which was a stupid mistake on my part, but I got the answer right\n",
    "\n",
    "### 3rd Wrong Question\n",
    "Q27\n",
    "\n",
    "Which of the following code segments can be used to move the robot to the gray square along the path indicated by the arrows?\n",
    "\n",
    "I chose C when the actual answer was D. I knew one of the answers had to have N in it, but I didn't think it through enough and chose C. I see now that in the order of how things go D was a better solution. "
   ]
  }
 ],
 "metadata": {
  "kernelspec": {
   "display_name": "base",
   "language": "python",
   "name": "python3"
  },
  "language_info": {
   "name": "python",
   "version": "3.9.12 (main, Apr  5 2022, 01:53:17) \n[Clang 12.0.0 ]"
  },
  "orig_nbformat": 4,
  "vscode": {
   "interpreter": {
    "hash": "289762bfef0c13eec96403755dc6a123221745d77b4e51a71a7ef5c7578571d1"
   }
  }
 },
 "nbformat": 4,
 "nbformat_minor": 2
}
