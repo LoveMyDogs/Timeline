{
 "cells": [
  {
   "attachments": {},
   "cell_type": "markdown",
   "metadata": {},
   "source": [
    "# Unit 3 Sections 12 and 13 lesson\n",
    "> Developing and Writing Procedures Lesson\n",
    "\n",
    "- title: Unit 3 Sections 12-13\n",
    "- toc: true\n",
    "- badges: false\n",
    "- categories: [classnotes]\n",
    "- tags: [notes]"
   ]
  },
  {
   "attachments": {},
   "cell_type": "markdown",
   "metadata": {},
   "source": [
    "## Vocab:\n",
    "Simulations: A simulation is something mimicking conditions and such to create code that calculates something"
   ]
  },
  {
   "attachments": {},
   "cell_type": "markdown",
   "metadata": {},
   "source": [
    "## Simulations\n",
    "Simulations is representing something in the real world, or a fictional scenario, and replicating it by making a program. This is useful in not endangering real people while testing dangerous. The retailer is the least useful one for that, you should just make an algorithm instead of a simulation with real people. Safety and efficacy of using the method are important. It can quickly do maths with an input so that you don't have to go through the same procedure several times. Video games and blender both have simulations, with object colliding and killing each other and i want to  kill myselfBlender simulates light and many mini simulations. "
   ]
  },
  {
   "attachments": {},
   "cell_type": "markdown",
   "metadata": {},
   "source": [
    "## Homework: \n",
    "![]({{ site.baseurl }}/images/hollow_knight_simulation.png \"The knight hitting a weak bug, being knocked back in a show of sparks\")\n",
    "\n",
    "Hollow knight simulates Newton's 3rd law, where every force has an equal and opposite reaction. When attacking or colliding with an enemy you get knocked back, as your attack expressed a force on them, and thus expressed a force on you back. This was the game making a program that simulated collision and physics, to make the game even more realistic.\n",
    "\n",
    "\n",
    "Below:\n",
    "Simulation for an object propelled by a spring, on a flat surface, with no initial velocity. Only friction and spring constants exist, and I only give you your velocity"
   ]
  },
  {
   "cell_type": "code",
   "execution_count": 9,
   "metadata": {},
   "outputs": [
    {
     "name": "stdout",
     "output_type": "stream",
     "text": [
      "Your object stops after 14430743421083.027 seconds, and the distance it goes is 1.0204071428571423e+23 meters, also your acceleration as you left was9999989999999.998m/s^2, and the velocity was 14142128552.66137m/s.\n",
      "If what this says doesn't makes sense, you found a way to beat my program! Or you added negative numbers where you shouldn't've\n"
     ]
    }
   ],
   "source": [
    "muse = float(input(\"What is the mu of kinetic friction?\"))\n",
    "spring = float(input(\"What is the spring constant?\"))\n",
    "comp = float(input(\"How many meters is the spring compressed\"))\n",
    "weight = float(input(\"How much does the object weigh in kilograms?\"))\n",
    "\n",
    "fFriction = weight * 9.8 * muse\n",
    "fSpring = 1/2 * spring * comp\n",
    "fTotal = fSpring - fFriction\n",
    "\n",
    "acc = (fTotal / weight)\n",
    "vel = (2 * acc * comp)**0.5\n",
    "\n",
    "\n",
    "if muse == 0:\n",
    "    print(\"Your object goes on forever, with your velocity being \" + str(vel) + \" m/s. Additionally, your acceleration as you left the spring was: \" + str(acc) + \" m/s^2\")\n",
    "elif fTotal <= 0:\n",
    "    print(\"You made your total spring force be lower than the force of kinetic friction, which I didn't account for, so uh, sorry, you might've moved a lil, I'm not gonna integrate\")\n",
    "else:\n",
    "    newAcc = (fFriction / weight)\n",
    "    time = (vel/newAcc)\n",
    "    dis = vel * time + (0.5 * -newAcc * (time**2))\n",
    "    print(\"Your object stops after \" + str(time) + \" seconds, and the distance it goes is \" + str(dis) + \" meters, also your acceleration as you left was \" + str(acc) +  \"m/s^2, and the velocity was \" + str(vel) + \" m/s.\")\n",
    "    print(\"If what this says doesn't makes sense, you found a way to beat my program! Or you added negative numbers where you shouldn't've\")"
   ]
  }
 ],
 "metadata": {
  "kernelspec": {
   "display_name": "base",
   "language": "python",
   "name": "python3"
  },
  "language_info": {
   "codemirror_mode": {
    "name": "ipython",
    "version": 3
   },
   "file_extension": ".py",
   "mimetype": "text/x-python",
   "name": "python",
   "nbconvert_exporter": "python",
   "pygments_lexer": "ipython3",
   "version": "3.9.12"
  },
  "orig_nbformat": 4,
  "vscode": {
   "interpreter": {
    "hash": "289762bfef0c13eec96403755dc6a123221745d77b4e51a71a7ef5c7578571d1"
   }
  }
 },
 "nbformat": 4,
 "nbformat_minor": 2
}
