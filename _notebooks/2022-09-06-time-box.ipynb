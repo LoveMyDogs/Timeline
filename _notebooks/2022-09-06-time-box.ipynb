{
 "cells": [
  {
   "cell_type": "markdown",
   "metadata": {},
   "source": [
    "# Time Box\n",
    "\n",
    "- toc: true\n",
    "- badges: true\n",
    "- comments: true\n",
    "- description: The time box for the year\n",
    "- categories: [python]"
   ]
  },
  {
   "cell_type": "markdown",
   "metadata": {},
   "source": [
    "\n",
    "![]({{ site.baseurl }}/images/time_clock.jpeg \"time\")\n",
    "\n",
    "## Time Box Fragments\n",
    "\n",
    "| Week| Date | Links | Description |\n",
    "|-|-|-|-----|\n",
    "| Week 0 | {{ \"22/8/21\" | date: \"%B %d, %Y\" }} | [Review Ticket 0](https://github.com/nighthawkcoders/APCSP/issues/11#issuecomment-1222527434) | Setup |\n",
    "| Week 1 | {{ \"22/8/28\" | date: \"%B %d, %Y\" }} | [Review Ticket 1](https://github.com/keiraokimoto/Fastpages/issues/3#issuecomment-1230706038) | Learning more about python and personalizing |\n",
    "| Week 2 | {{ \"22/9/5\" | date: \"%B %d, %Y\" }} | [Review Ticket 2](https://github.com/keiraokimoto/Fastpages/issues/6#issue-1362685916)  |  Learning about lists and dictionaries |"
   ]
  }
 ],
 "metadata": {
  "kernelspec": {
   "display_name": "Python 3.9.12 ('base')",
   "language": "python",
   "name": "python3"
  },
  "language_info": {
   "name": "python",
   "version": "3.9.12"
  },
  "orig_nbformat": 4,
  "vscode": {
   "interpreter": {
    "hash": "289762bfef0c13eec96403755dc6a123221745d77b4e51a71a7ef5c7578571d1"
   }
  }
 },
 "nbformat": 4,
 "nbformat_minor": 2
}
