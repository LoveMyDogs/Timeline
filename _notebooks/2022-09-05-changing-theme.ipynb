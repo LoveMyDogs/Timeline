{
 "cells": [
  {
   "cell_type": "markdown",
   "metadata": {},
   "source": [
    "# Changing Theme\n",
    "> Showing the results of changing my theme\n",
    "\n",
    "- title: Changing Theme\n",
    "- badges: true\n",
    "- toc: true\n",
    "- categories: [classwork]\n",
    "- tags: [theme]"
   ]
  },
  {
   "cell_type": "markdown",
   "metadata": {},
   "source": [
    "## The Results\n",
    "\n",
    "### The Successes\n",
    "- First down the line, all of my pages seemed to be working(jupyter, markdown, and docx posts all functioned well)\n",
    "Evidence:\n",
    "![]({{ site.baseurl }}/images/ipynb-working-0.png \"This shows my python quiz page functioning after changing to midnight theme\")\n",
    "![]({{ site.baseurl }}/images/ipynb-bash-working-1.png \"This shows my bash page functioning after changing to midnight theme\")\n",
    "![]({{ site.baseurl }}/images/ipynb-working-2.png \"This shows my python lists page functioning after changing to midnight theme\")\n",
    "![]({{ site.baseurl }}/images/markdown-working-0.png \"This shows my markdown page functioning after changing to midnight theme\")\n",
    "![]({{ site.baseurl }}/images/docx-working-0.png \"This shows my docx page functioning after changing to midnight theme\")\n",
    "\n",
    "### The Issues\n",
    "- The things that did seem to break are the icons on top and my \"_pages\" section no longer showing, as in there was no longer a way to search, look at tags, etc.\n",
    "![]({{ site.baseurl }}/images/home-page-0.png \"This shows most of my homepage functioning however the upper right section\"_pages\" is no longer there\")\n",
    "\n",
    "- Overall it was a success :D\n"
   ]
  }
 ],
 "metadata": {
  "kernelspec": {
   "display_name": "Python 3.9.12 ('base')",
   "language": "python",
   "name": "python3"
  },
  "language_info": {
   "name": "python",
   "version": "3.9.12"
  },
  "orig_nbformat": 4,
  "vscode": {
   "interpreter": {
    "hash": "289762bfef0c13eec96403755dc6a123221745d77b4e51a71a7ef5c7578571d1"
   }
  }
 },
 "nbformat": 4,
 "nbformat_minor": 2
}
