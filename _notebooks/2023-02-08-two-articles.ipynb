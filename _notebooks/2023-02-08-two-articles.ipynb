{
 "cells": [
  {
   "attachments": {},
   "cell_type": "markdown",
   "metadata": {},
   "source": [
    "# Week 8 \n",
    "\n",
    "- title: Model and Object-Oriented Programming\n",
    "- toc: true\n",
    "- categories: []\n",
    "- image: /images/python.png\n",
    "- type: pbl\n",
    "- week: 18"
   ]
  },
  {
   "attachments": {},
   "cell_type": "markdown",
   "metadata": {},
   "source": [
    "Big Idea 5.5\n",
    "1. The licenses that are offered are tailored specifically for software and programming, and they are presented with the ease of what you would like to do. MIT being the most simple to use, merely working in a community and following what they do, or trying to share improvements amongst people.\n",
    "2. In my own point of view licenses are extremely important, and in our current world having them is necessary for businesses to be able to survive, however the way that they are often implemented and how some uses can hold back progress and greatness, is a sadness in this world.\n",
    "3. For my personal blog I decided to stick to the apache 2.0 license, due to knowing that it's under the fastpages copyright and wanting to safely stick to what it has, and because I am fine with all the uses that it has. My other teammates decided the license that we had on our team blog, frontend and backend, and I am fine with the decision on what others can do privately, commercially, and such.\n",
    "\n",
    "Big Idea 5.6:\n",
    "1. We have done database and lists concerning people's info, that had their names, emails, and other details surrounding them\n",
    "2. I am extremely careful with PII, I don't want anybody who knows my name to be able to look me up on the internet, and I'd hate it if anyone got any sort of info on me\n",
    "3. Bad passwords are those that can be guessed by knowing details about you or by simple programs that look for the simplest setup, while good passwords don't include anything that would be revealed if people had info on you, and is hard to guess\n",
    "4. Symmetric decryption is having one key to unlock something, while asymmetric decryption you need to different keys, one that is public and one private,meaning you don't need to hack just one thing to find something\n",
    "5. We used decryption when using nginx, which allows others to not modify or mess with the website that we have. \n",
    "6. When I was young I played cheap mobile games, and some of them gave the harder currency to acquire by doing \"quizzes\" that tried to get info on me. I almost did it once but I didn't know my zip code, lmao. Otherwise, haven't fallen to any. The phishing technique of texting people pretending you are an authority or acting like you want to be a significant other to get info on a person. \n"
   ]
  }
 ],
 "metadata": {
  "kernelspec": {
   "display_name": "base",
   "language": "python",
   "name": "python3"
  },
  "language_info": {
   "name": "python",
   "version": "3.9.12 (main, Apr  5 2022, 01:53:17) \n[Clang 12.0.0 ]"
  },
  "orig_nbformat": 4,
  "vscode": {
   "interpreter": {
    "hash": "289762bfef0c13eec96403755dc6a123221745d77b4e51a71a7ef5c7578571d1"
   }
  }
 },
 "nbformat": 4,
 "nbformat_minor": 2
}
