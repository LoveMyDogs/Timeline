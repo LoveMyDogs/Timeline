{
 "cells": [
  {
   "cell_type": "markdown",
   "metadata": {},
   "source": [
    "# Python Quiz Showcase\n",
    "\n",
    "- toc: true \n",
    "- badges: true\n",
    "- comments: true\n",
    "- description: Using my python quiz\n",
    "- categories: [python]\n",
    "- tags: [python]"
   ]
  },
  {
   "cell_type": "markdown",
   "metadata": {},
   "source": [
    "## Pre-Explanation\n",
    "I did this on another notebook however it refuses to work for no discernable reason therefore I am transferring the important part of it to here"
   ]
  },
  {
   "cell_type": "code",
   "execution_count": 4,
   "metadata": {
    "vscode": {
     "languageId": "shellscript"
    }
   },
   "outputs": [
    {
     "name": "stdout",
     "output_type": "stream",
     "text": [
      "Hello, gianninaortegarico running /Users/gianninaortegarico/opt/anaconda3/bin/python\n",
      "You will be asked 5 questions.\n",
      "Question: Are you ready to take a test?\n",
      "Answer: no\n",
      "Question: What is 9+9\n",
      "18 is correct!\n",
      "Question: What is my favorite electronic device\n",
      "computer is correct!\n",
      "Question: Do you have any pets?\n",
      "Yes? That's nice!\n",
      "Question: Is this a fun quiz?\n",
      "no is correct!\n",
      "Question: I'll let you go free now, are you enthused?\n",
      "hee, rude\n",
      "gianninaortegarico you scored 5/5\n"
     ]
    }
   ],
   "source": [
    "import getpass, sys\n",
    "\n",
    "# This creates the function that I'll be using to create the quiz\n",
    "def question_and_answer(prompt):\n",
    "    print(\"Question: \" + prompt)\n",
    "    msg = input()\n",
    "    print(\"Answer: \" + msg)\n",
    "    \n",
    "def question_with_response(prompt):\n",
    "    print(\"Question: \" + prompt)\n",
    "    msg = input()\n",
    "    return msg\n",
    "\n",
    "# This creates the variables that will be used to calculate score\n",
    "questions = 5\n",
    "correct = 0\n",
    "\n",
    "# Introduces user to quiz\n",
    "print('Hello, ' + getpass.getuser() + \" running \" + sys.executable)\n",
    "print(\"You will be asked \" + str(questions) + \" questions.\")\n",
    "question_and_answer(\"Are you ready to take a test?\")\n",
    "\n",
    "# Starts quiz\n",
    "rsp = question_with_response(\"What is 9+9\")\n",
    "if rsp == \"18\":\n",
    "    print(rsp + \" is correct!\")\n",
    "    correct += 1\n",
    "else:\n",
    "    print(rsp + \" is incorrect!\")\n",
    "\n",
    "rsp = question_with_response(\"What is my favorite electronic device\")\n",
    "if rsp == \"computer\":\n",
    "    print(rsp + \" is correct!\")\n",
    "    correct += 1\n",
    "else:\n",
    "    print(rsp + \" is incorrect!\")\n",
    "\n",
    "rsp = question_with_response(\"Do you have any pets?\")\n",
    "if rsp == \"Yes\":\n",
    "    print(\"Yes? That's nice!\")\n",
    "    correct += 1\n",
    "else:\n",
    "    print(\"hrm, cool\")\n",
    "    correct += 1\n",
    "\n",
    "rsp = question_with_response(\"Is this a fun quiz?\")\n",
    "if rsp == \"no\":\n",
    "    print(rsp + \" is correct!\")\n",
    "    correct += 1\n",
    "else:\n",
    "    print(\"herm\")\n",
    "    correct += 1\n",
    "\n",
    "rsp = question_with_response(\"I'll let you go free now, are you enthused?\")\n",
    "if rsp == \"Yes\":\n",
    "    print(\"hee, rude\")\n",
    "    correct += 1\n",
    "else:\n",
    "    print(\"welp\")\n",
    "    correct += 1\n",
    "\n",
    "# Tells user their score\n",
    "print(getpass.getuser() + \" you scored \" + str(correct) +\"/\" + str(questions))"
   ]
  },
  {
   "cell_type": "code",
   "execution_count": null,
   "metadata": {
    "vscode": {
     "languageId": "shellscript"
    }
   },
   "outputs": [],
   "source": [
    "# Importing random number generator\n",
    "from random import seed\n",
    "from random import randint\n",
    "\n",
    "# Introducing what will be happening to a bored audience\n",
    "print(\"Hey, I'm trying out python, let's experience this quick simple story together!\")\n",
    "print(\"Note: As you go through this journey remember to only respond with 'Yes' or 'No'\")\n",
    "def question_with_response(prompt):\n",
    "    print(\"Question: \" + prompt)\n",
    "    msg = input()\n",
    "    return msg\n",
    "\n",
    "# Using variables for choices that I'll be creating\n",
    "choice_1 = 0\n",
    "choice_2 = 0\n",
    "choice_3 = 0\n",
    "choice_4 = 0\n",
    "choice_5 = 0\n",
    "random = 0\n",
    "\n",
    "# Starting the choices\n",
    "print(\"Today, you wake up, a day filled with possibilities, it is softly drizzling outside, and you slept a full 6 hours \")\n",
    "rsp = question_with_response(\"Now, do you get up and shower?\")\n",
    "if rsp == \"Yes\":\n",
    "    choice_1 = 1\n",
    "    print(\"The shower is nice and refreshing, washing of a night's worth of stink\")\n",
    "elif rsp == \"No\":\n",
    "    choice_1 = 0\n",
    "    print(\"You lay in your bed, wallowing in a bit of stink, it felt like a lazy day\")\n",
    "else:\n",
    "    print(\"Remember that your choices have to be 'Yes' or 'No' exactly, your future is a mystery\")\n",
    "    random = randint(0,1)\n",
    "    choice_1 = random\n",
    "\n",
    "rsp = question_with_response(\"Breakfast is in order, is it worth it to make it?\")\n",
    "if rsp == \"Yes\":\n",
    "    choice_2 = 1\n",
    "    print(\"You make your favorite breakfast, and it turned out above par, you feel happy\")\n",
    "elif rsp == \"No\":\n",
    "    choice_2 = 0\n",
    "    print(\"You're still a bit full from eating two steaks last night, so you decide not to, although feel a bit like you're missing out\")\n",
    "else:\n",
    "    print(\"Remember that your choices have to be 'Yes' or 'No' exactly, your future is a mystery\")\n",
    "    random = randint(0,1)\n",
    "    choice_2 = random\n",
    "\n",
    "rsp = question_with_response(\"Time to decide what you're doing today, is it work time?\")\n",
    "if rsp == \"Yes\" :\n",
    "    \n",
    "    choice_3 = 1\n",
    "    print(\"You make your favorite breakfast, and it turned out above par, you feel happy\")\n",
    "elif rsp == \"No\":\n",
    "    choice_3 = 0\n",
    "    print(\"You're still a bit full from eating two steaks last night, so you decide not to, although feel a bit like you're missing out\")\n",
    "else:\n",
    "    print(\"Remember that your choices have to be 'Yes' or 'No' exactly, your future is a mystery\")\n",
    "    random = randint(0,1)\n",
    "    choice_3 = random\n",
    "\n",
    "\n",
    "    \n",
    "\n",
    "\n"
   ]
  },
  {
   "cell_type": "markdown",
   "metadata": {
    "vscode": {
     "languageId": "shellscript"
    }
   },
   "source": [
    "# Took inspiration from another persons code for this\n",
    "\n",
    "# Import random number generator\n",
    "from random import randint\n",
    "\n",
    "# Defining my variables here\n",
    "score = 0\n",
    "online = True\n",
    "\n",
    "# Use a dictionary for the questions\n",
    "quesDict = {\n",
    "    0: \"What is the tallest mountain in the world\",\n",
    "    1: \"What is 2+5?\",\n",
    "    2: \"What programming language was used to make this quiz?\",\n",
    "    3: \"How many programming languages does the creator of this quiz know?\",\n",
    "    4: \"What is the favorite coding part of python for the creator of this quiz?\",\n",
    "    5: \"What is a nice little tune?\",\n",
    "    6: \"Tick?\",\n",
    "}\n",
    "\n",
    "# Use a dictionary for the correct solutions\n",
    "soluDict = {\n",
    "    0: \"Mount Everest\",\n",
    "    1: \"7\",\n",
    "    2: \"Python\",\n",
    "    3: \"0\",\n",
    "    4: \"Variables\",\n",
    "    5: \"Ladaradadeedoo\",\n",
    "    6: \"Tock\",\n",
    "}\n",
    "\n",
    "print(\"When playing this game, you will go through a list of 7 questions in a randomized order, if you get a question wrong the test is over and you get your final score, good luck! \\n\")\n",
    "\n",
    "while online:\n",
    "    index = randint(0, 6)\n",
    "    print(quesDict.get(index) + \"\\n\")\n",
    "    guess = input()\n",
    "    if(guess == soluDict.get(index)):\n",
    "        score+=1\n",
    "        print(\"Correct! Score: \" + str(score))\n",
    "    else: \n",
    "        print(\"Incorrect! The correct answer was \" + soluDict.get(index) + \", Final score: \" + str(score))\n",
    "        online = False\n",
    "    \n",
    "    "
   ]
  },
  {
   "cell_type": "code",
   "execution_count": 8,
   "metadata": {
    "vscode": {
     "languageId": "shellscript"
    }
   },
   "outputs": [
    {
     "name": "stdout",
     "output_type": "stream",
     "text": [
      "When playing this game, you will go through a list of 7 questions, remember to capitalize your answers and do your best!\n",
      "What is the tallest mountain in the world\n",
      "\n",
      "Correct! Score: 1\n",
      "What is 2+5?\n",
      "\n",
      "Correct! Score: 2\n",
      "What programming language was used to make this quiz?\n",
      "\n",
      "Correct! Score: 3\n",
      "How many programming languages does the creator of this quiz know?\n",
      "\n",
      "Correct! Score: 4\n",
      "What is the favorite coding part of python for the creator of this quiz?\n",
      "\n",
      "Correct! Score: 5\n",
      "What is a nice little tune?\n",
      "\n",
      "Correct! Score: 6\n",
      "Tick?\n",
      "\n",
      "Correct! Score: 7\n",
      "Final score: 7\n"
     ]
    }
   ],
   "source": [
    "o"
   ]
  }
 ],
 "metadata": {
  "kernelspec": {
   "display_name": "Python 3.9.12 ('base')",
   "language": "python",
   "name": "python3"
  },
  "language_info": {
   "codemirror_mode": {
    "name": "ipython",
    "version": 3
   },
   "file_extension": ".py",
   "mimetype": "text/x-python",
   "name": "python",
   "nbconvert_exporter": "python",
   "pygments_lexer": "ipython3",
   "version": "3.9.12"
  },
  "orig_nbformat": 4,
  "vscode": {
   "interpreter": {
    "hash": "289762bfef0c13eec96403755dc6a123221745d77b4e51a71a7ef5c7578571d1"
   }
  }
 },
 "nbformat": 4,
 "nbformat_minor": 2
}
