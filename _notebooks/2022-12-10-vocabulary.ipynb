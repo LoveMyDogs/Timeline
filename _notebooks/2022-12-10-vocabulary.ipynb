{
 "cells": [
  {
   "attachments": {},
   "cell_type": "markdown",
   "metadata": {},
   "source": [
    "# Unit 3 Sections 5-7\n",
    "> Welcome to the World of Booleans and Conditionals!\n",
    "\n",
    "- title: Teaching Plan - Booleans and Conditionals\n",
    "- toc: false\n",
    "- badges: false\n",
    "- categories: [classnotes]\n",
    "- tags: [notes]"
   ]
  },
  {
   "cell_type": "markdown",
   "metadata": {},
   "source": [
    "- Variable: A data value set to be called upon later in the program \n",
    "- Lists: A way to have several variables or data values in one thing\n",
    "- Data Abstraction: A neat method in using data with only the relevant info, extremely important in programming\n",
    "- Booleans: True or false conditions that can be used in code, such as in if/else statements, and set with integers and such\n",
    "- Conditionals: If/else statements, being able to set a condition, and then if it is fulfilled, do a part of the code\n",
    "- Strings: A string of characters, can be even one character, is in quotation marks in python\n",
    "- Iteration: Repeating something through means of programming, such as in while loops, to accomplish things that would otherwise take twenty lines of code. \n",
    "- Procedure: a named group of programming instructions that may have parameters and return values., function, method\n",
    "- Algorithm: A process or set of rules followed by a computer"
   ]
  }
 ],
 "metadata": {
  "kernelspec": {
   "display_name": "Python 3.9.12 ('base')",
   "language": "python",
   "name": "python3"
  },
  "language_info": {
   "name": "python",
   "version": "3.9.12 (main, Apr  5 2022, 01:53:17) \n[Clang 12.0.0 ]"
  },
  "orig_nbformat": 4,
  "vscode": {
   "interpreter": {
    "hash": "289762bfef0c13eec96403755dc6a123221745d77b4e51a71a7ef5c7578571d1"
   }
  }
 },
 "nbformat": 4,
 "nbformat_minor": 2
}
