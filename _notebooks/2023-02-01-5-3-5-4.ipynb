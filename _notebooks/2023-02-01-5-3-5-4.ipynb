{
 "cells": [
  {
   "attachments": {},
   "cell_type": "markdown",
   "metadata": {},
   "source": [
    "24-35 facebook\n",
    "10-19 tiktok\n",
    "\n",
    "Because consumers prefer it, less threatening, makes some think that a woman. It is not purposeful exclusion, it is not expressively harmful however the fact generations aren't together and are more in their own echochambers could promote some of the overarching hate we see today. It shouldn't necessarily be corrected, it is merely what generations choose. It's not particularly good b usiness because it takes away an actionable demographic, that is companies loose out on money.\n",
    "\n",
    "Virtual assistants having female voices is because people prefer female voices and it is easier to hear in crowded places. It is purposeful on the companies part, and it is harmful, as it promotes the stereotype that women are assistants and that men can't really help others. This is good business as it gets them more money. \n",
    "\n",
    "If I think of google and it's algorithm that it can completely do what it desires with, and how social media companies have algorithms that dig you into biased rabbit holes where you can't see other opinions, is a cruel thing. \n",
    "\n",
    "The owner of the computer did not think it was intentional, he's just talking about it in a humorous way, and not directly attacking the company. This probably happened because the data that the ai was trained on was mainly filled with white people. This is absolutely harmful, it was not intended, however it alienates people from what is supposed to be a nice feature. This should be corrected, they should add in more data. I would add in data from all types of people, expressly trying to take an equal amount from all different demographics, and get those recognized. "
   ]
  }
 ],
 "metadata": {
  "kernelspec": {
   "display_name": "base",
   "language": "python",
   "name": "python3"
  },
  "language_info": {
   "name": "python",
   "version": "3.9.12 (main, Apr  5 2022, 01:53:17) \n[Clang 12.0.0 ]"
  },
  "orig_nbformat": 4,
  "vscode": {
   "interpreter": {
    "hash": "289762bfef0c13eec96403755dc6a123221745d77b4e51a71a7ef5c7578571d1"
   }
  }
 },
 "nbformat": 4,
 "nbformat_minor": 2
}
