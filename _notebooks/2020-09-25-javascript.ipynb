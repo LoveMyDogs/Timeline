{
 "cells": [
  {
   "cell_type": "markdown",
   "metadata": {},
   "source": [
    "# Javascript Use\n",
    "\n",
    "- toc: true \n",
    "- badges: true\n",
    "- comments: true\n",
    "- description: Javascript\n",
    "- categories: [javascript]\n",
    "- tags: [javascript]"
   ]
  },
  {
   "cell_type": "code",
   "execution_count": 33,
   "metadata": {},
   "outputs": [
    {
     "name": "stdout",
     "output_type": "stream",
     "text": [
      "derpin around\n",
      "object ; Mess { size: '5', disgust: '7', madeBy: 'Lad', role: 'disturb' }\n",
      "string ; {\"Size\":\"5\",\"disgust\":\"7\",\"madeBy\":\"Lad\",\"role\":\"disturb\"}\n"
     ]
    }
   ],
   "source": [
    "var mep = \"derpin around\";\n",
    "console.log(mep)\n",
    "\n",
    "function logItType(output) {  //putting logItType as an example of a function\n",
    "    console.log(typeof output, \";\", output);\n",
    "}\n",
    "\n",
    "p = 1;\n",
    "\n",
    "//attempted to use dates, failed\n",
    "\n",
    "// define a function to hold data for a Person\n",
    "function Mess(size, disgust, madeBy) {\n",
    "    this.size = size;\n",
    "    this.disgust = disgust;\n",
    "    this.madeBy = madeBy;\n",
    "    this.role = \"\";\n",
    "}\n",
    "\n",
    "// define a setter for role in Person data\n",
    "Mess.prototype.setRole = function(role) {\n",
    "    this.role = role;\n",
    "}\n",
    "\n",
    "// define a JSON conversion \"method\" associated with Person\n",
    "Mess.prototype.toJSON = function() {\n",
    "    const obj = {Size: this.size, disgust: this.disgust, madeBy: this.madeBy, role: this.role};\n",
    "    const json = JSON.stringify(obj);\n",
    "    return json;\n",
    "}\n",
    "\n",
    "// make a new Person and assign to variable teacher\n",
    "var teacger = new Mess(\"5\", \"7\", \"Lad\");\n",
    "teacger.setRole(\"disturb\");\n",
    "\n",
    "// output of Object and JSON/string associated with Teacher\n",
    "logItType(teacger);  // object type is easy to work with in JavaScript\n",
    "logItType(teacger.toJSON());  // json/string is useful when passing data on internet\n"
   ]
  },
  {
   "cell_type": "code",
   "execution_count": 38,
   "metadata": {},
   "outputs": [
    {
     "name": "stdout",
     "output_type": "stream",
     "text": [
      "object ; [ Mess { size: '5', disgust: '7', madeBy: 'Lad', role: 'disturb' },\n",
      "  Mess { size: '8', disgust: '3', madeBy: 'Ann', role: 'Minin' },\n",
      "  Mess { size: '2', disgust: '4', madeBy: 'Pal', role: 'Minin' },\n",
      "  Mess { size: '6', disgust: '5', madeBy: 'Sal', role: 'Minin' },\n",
      "  Mess { size: '1', disgust: '0', madeBy: 'Mia', role: 'Minin' },\n",
      "  Mess { size: '10', disgust: '9', madeBy: 'Rad', role: 'Minin' },\n",
      "  Mess { size: '3', disgust: '4', madeBy: 'Telu', role: 'Minin' } ]\n",
      "undefined ; undefined\n",
      "string ; {\"Size\":\"5\",\"disgust\":\"7\",\"madeBy\":\"Lad\",\"role\":\"disturb\"}\n",
      "object ; { Size: '5', disgust: '7', madeBy: 'Lad', role: 'disturb' }\n"
     ]
    }
   ],
   "source": [
    "// define an Array of messes made\n",
    "var minor = [ \n",
    "    new Mess(\"8\", \"3\", \"Ann\"),\n",
    "    new Mess(\"2\", \"4\", \"Pal\"),\n",
    "    new Mess(\"6\", \"5\", \"Sal\"),\n",
    "    new Mess(\"1\", \"0\", \"Mia\"),\n",
    "    new Mess(\"10\", \"9\", \"Rad\"),\n",
    "    new Mess(\"3\", \"4\", \"Telu\")\n",
    "];\n",
    "\n",
    "// define a group of people and build group objects and json\n",
    "function Group(teacher, minor){ // 1 teacher, many student\n",
    "    // start Classroom with Teacher\n",
    "    teacger.setRole(\"disturb\");\n",
    "    this.teacger = teacher;\n",
    "    this.Group = [teacher];\n",
    "    // add each Student to Classroom\n",
    "    this.minor = minor;\n",
    "    this.minor.forEach(minor => { minor.setRole(\"Minin\"); this.Group.push(minor); });\n",
    "    // build json/string format of Classroom\n",
    "    this.json = [];\n",
    "    this.Group.forEach(mess => this.json.push(mess.toJSON()));\n",
    "}\n",
    "\n",
    "// make a CompSci classroom from formerly defined teacher and students\n",
    "LatterPeople = new Group(teacger, minor);\n",
    "\n",
    "// output of Objects and JSON in CompSci classroom\n",
    "logItType(LatterPeople.Group);  // constructed classroom object\n",
    "logItType(LatterPeople.Group[0].name);  // abstract 1st objects name\n",
    "logItType(LatterPeople.json[0]);  // show json conversion of 1st object to string\n",
    "logItType(JSON.parse(LatterPeople.json[0]));  // show JSON.parse inverse of JSON.stringify"
   ]
  }
 ],
 "metadata": {
  "kernelspec": {
   "display_name": "JavaScript (Node.js)",
   "language": "javascript",
   "name": "javascript"
  },
  "language_info": {
   "file_extension": ".js",
   "mimetype": "application/javascript",
   "name": "javascript",
   "version": "10.13.0"
  },
  "orig_nbformat": 4,
  "vscode": {
   "interpreter": {
    "hash": "289762bfef0c13eec96403755dc6a123221745d77b4e51a71a7ef5c7578571d1"
   }
  }
 },
 "nbformat": 4,
 "nbformat_minor": 2
}
