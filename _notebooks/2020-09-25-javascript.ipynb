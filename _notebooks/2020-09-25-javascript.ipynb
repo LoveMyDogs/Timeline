{
 "cells": [
  {
   "cell_type": "markdown",
   "metadata": {},
   "source": [
    "# Javascript Use\n",
    "\n",
    "- toc: true \n",
    "- badges: true\n",
    "- comments: true\n",
    "- description: Javascript\n",
    "- categories: [javascript]\n",
    "- tags: [javascript]"
   ]
  },
  {
   "cell_type": "code",
   "execution_count": 1,
   "metadata": {},
   "outputs": [
    {
     "ename": "SyntaxError",
     "evalue": "Unexpected token ,",
     "output_type": "error",
     "traceback": [
      "evalmachine.<anonymous>:17",
      "const kops = {\"Plan\", \"Your\", \"Life\", \"Out\"};",
      "                    ^",
      "",
      "SyntaxError: Unexpected token ,",
      "    at new Script (vm.js:79:7)",
      "    at createScript (vm.js:251:10)",
      "    at Object.runInThisContext (vm.js:303:10)",
      "    at run ([eval]:1020:15)",
      "    at onRunRequest ([eval]:864:18)",
      "    at onMessage ([eval]:828:13)",
      "    at process.emit (events.js:182:13)",
      "    at emit (internal/child_process.js:812:12)",
      "    at process._tickCallback (internal/process/next_tick.js:63:19)"
     ]
    }
   ],
   "source": [
    "var plan = \"derpin around\";\n",
    "console.log(plan)\n",
    "\n",
    "function logItType(output) {  //putting logItType as an example of a function\n",
    "    console.log(typeof output, \";\", output);\n",
    "}\n",
    "\n",
    "\n",
    "let p,mop,lop,cop,rop,pop;  //declaring several variables at once\n",
    "p = 1;\n",
    "mop = 2;\n",
    "lop = 3;\n",
    "cop = 4;\n",
    "rop = 5;\n",
    "pop = 6;\n",
    "\n",
    "const kops = {\"Plan\", \"Your\", \"Life\", \"Out\"};\n",
    "let mop = kops[1];\n",
    "let lop = kops[0];\n",
    "let rop = kops[2];\n",
    "let pop = kops[3];\n",
    "\n",
    "new Date(days);\n",
    "console.log(days);\n",
    "\n",
    "if (Date = p) {\n",
    "    console.log(\"A brand new month, nothing happy to talk about\")\n",
    "}\n"
   ]
  }
 ],
 "metadata": {
  "kernelspec": {
   "display_name": "JavaScript (Node.js)",
   "language": "javascript",
   "name": "javascript"
  },
  "language_info": {
   "file_extension": ".js",
   "mimetype": "application/javascript",
   "name": "javascript",
   "version": "10.13.0"
  },
  "orig_nbformat": 4,
  "vscode": {
   "interpreter": {
    "hash": "289762bfef0c13eec96403755dc6a123221745d77b4e51a71a7ef5c7578571d1"
   }
  }
 },
 "nbformat": 4,
 "nbformat_minor": 2
}
