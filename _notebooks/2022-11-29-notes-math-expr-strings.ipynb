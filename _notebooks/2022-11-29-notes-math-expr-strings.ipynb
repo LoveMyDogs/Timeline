{
 "cells": [
  {
   "cell_type": "markdown",
   "metadata": {},
   "source": [
    "# Notes on Math Expressions and Strings\n",
    "\n",
    "- toc: true \n",
    "- badges: true\n",
    "- comments: true\n",
    "- description: Notes on 3.3-4, for class\n",
    "- categories: [notebook]\n",
    "- tags: [notes]"
   ]
  },
  {
   "cell_type": "markdown",
   "metadata": {},
   "source": [
    "## Algorithms\n",
    "\n",
    "Algorithms  are when programming languages have a set of things to go through to accomplish tasks, this can be done by sequencing which is when an algorithm does things in one certain order, Selection when an algorithm can choose two different outcomes based off a decision in the algorithm, with iteration algorithms can also repeat if a condition is true.\n",
    "\n",
    "Flowcharts can represent algorithms for planning things out. \n",
    "\n",
    "Arithmetic Operations: \n",
    "Subtraction, Addition, Multiplication, Division, Remainder\n",
    "In the ap exam the language does arithmetic in PEMDAS\n",
    "\n",
    "Variables:\n",
    "Can store a numerical value as an integer\n",
    "Can assign a variable to another value\n",
    "Can store the result of an operation as a variable\n",
    "A procedural variable \n",
    "\n",
    "The sequence of variables is important, as the order that things are in determines their outcome.\n",
    "\n",
    "Tracking variables is often shown on ap exams, and being able to know how each changes and 1is approved is important. \n",
    "\n",
    "Selections are if statements/conditionals"
   ]
  },
  {
   "cell_type": "markdown",
   "metadata": {},
   "source": [
    "## Strings\n",
    "\n",
    "Strings, a string is a collection of characters, it could be anything, numbers, letters, special ch aracters. \n",
    "As string is a collection of characters. \n",
    "len(string), c\n",
    "lower() to conver to lowercase\n",
    "concat is in pseudocode of ap exam, it puts strings together\n",
    "substring is pseudocode of the ap exam,  (\"abcdefghijk\", 2, 5) would print bcde (pseudocode starts at 1)\n",
    "\n",
    "String concatenation combines w or more strings to create a new singt concat(\"Cookie\", \"Monster\")-? CookieMonster\n",
    "\n",
    "concat(\"Mr.Mortenson is very handsome\" 1, 2) the system would return Mr (remember that pseudocode starts at 1)\n",
    "\n",
    "Very handsome mr.mort is"
   ]
  },
  {
   "cell_type": "markdown",
   "metadata": {},
   "source": [
    "### Homework \n",
    "\n",
    "Problem 1:\n",
    "Num 2 = 50%9 + 15 =20\n",
    "Num 3 = 20 / 50 + (20*2)= 40.4\n",
    "Num 4 = 40.4 + 50 / 5 - 10 = 40.4\n",
    "Result = 40.4 - 2- = 20.4\n",
    "\n",
    "Problem 2:\n",
    "Num 2 = 4\n",
    "Num1 = 4\n",
    "Num 3= 12\n",
    "Result = 0\n",
    "\n",
    "Problem 4:\n",
    "Value B = 14\n",
    "Value A = 40\n",
    "printed -> 17\n",
    "\n",
    "Problem 4:\n",
    "printed -> `straight brown short`"
   ]
  },
  {
   "cell_type": "markdown",
   "metadata": {},
   "source": [
    "### Strings, Problems:\n",
    "`Abrev= Mr.Mort`\n",
    "\n",
    "`yoda = Very Handsome Mr.Mort is`\n",
    "\n",
    "Problem 2:\n",
    "len1 = 4\n",
    "len2 =  225\n",
    "`vote1 = 8 vote 225`\n",
    "`vote2 = 5 vote 4`\n",
    "`votes = 8 vote 225 5 vote 4`\n",
    "displays ->  8 vote 225 5 vote 4"
   ]
  }
 ],
 "metadata": {
  "kernelspec": {
   "display_name": "Python 3.9.12 ('base')",
   "language": "python",
   "name": "python3"
  },
  "language_info": {
   "codemirror_mode": {
    "name": "ipython",
    "version": 3
   },
   "file_extension": ".py",
   "mimetype": "text/x-python",
   "name": "python",
   "nbconvert_exporter": "python",
   "pygments_lexer": "ipython3",
   "version": "3.9.12"
  },
  "orig_nbformat": 4,
  "vscode": {
   "interpreter": {
    "hash": "289762bfef0c13eec96403755dc6a123221745d77b4e51a71a7ef5c7578571d1"
   }
  }
 },
 "nbformat": 4,
 "nbformat_minor": 2
}
