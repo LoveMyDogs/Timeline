{
 "cells": [
  {
   "attachments": {},
   "cell_type": "markdown",
   "metadata": {},
   "source": [
    "# Unit 3 Sections 12 and 13 lesson\n",
    "> Developing and Writing Procedures Lesson\n",
    "\n",
    "- title: Unit 3 Sections 12-13\n",
    "- toc: true\n",
    "- badges: false\n",
    "- categories: [classnotes]\n",
    "- tags: [notes]"
   ]
  },
  {
   "attachments": {},
   "cell_type": "markdown",
   "metadata": {},
   "source": [
    "## Vocab:\n",
    "Program Efficiency: There is efficiency in time or with space, that is it takes less time or resources than other methods. \n",
    "Undecidable Problems: Problems that don't have a definite answer in programming"
   ]
  },
  {
   "attachments": {},
   "cell_type": "markdown",
   "metadata": {},
   "source": [
    "## Algorithm Efficiency\n",
    "The ability of a program to solve a problem quickly and with minimum resources\n",
    "With time complexity and space complexity\n",
    "The runtime of the function would grow with the more inputs that there are, linearly. Time complexity is linear time, which can change between programs\n",
    "\n",
    "O(n)- linear time, O(1)- constant time, O(n^2)- constant time, which are the big O type of way to represent time complexity. To find time complexity, you find the fastest growing coefficient (the one with the highest power), \n",
    "\n",
    "## Undecidable Problems\n",
    "The travelling merchant problem is unsolvable, but a heuristic solution will give us an approach or algorithm to the problem, which isn't optimal, however will be better than any random solution that is produced. \n",
    "The ideas I have for travelling merchant, would be to find which cities have the largest travelling distance between them, and then taking paths that would include that distance out of the equation. \n",
    "\n",
    "Since the output of the halt checker is not always correct, or cannot always be used, it is an undecidable problem"
   ]
  }
 ],
 "metadata": {
  "kernelspec": {
   "display_name": "base",
   "language": "python",
   "name": "python3"
  },
  "language_info": {
   "name": "python",
   "version": "3.9.12 (main, Apr  5 2022, 01:53:17) \n[Clang 12.0.0 ]"
  },
  "orig_nbformat": 4,
  "vscode": {
   "interpreter": {
    "hash": "289762bfef0c13eec96403755dc6a123221745d77b4e51a71a7ef5c7578571d1"
   }
  }
 },
 "nbformat": 4,
 "nbformat_minor": 2
}
