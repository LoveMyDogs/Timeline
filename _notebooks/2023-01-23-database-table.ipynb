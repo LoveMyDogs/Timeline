{
 "cells": [
  {
   "attachments": {},
   "cell_type": "markdown",
   "metadata": {},
   "source": [
    "# Model and Object-Oriented Programming\n",
    "> Object Oriented Programming is a part of learning Python.  The objective of this blog is to introduce OOP with the intention of PBL task to create a database.  The foundations for a database is defining a Class and understanding instance data and methods.  A database is often a focus of backend coding as it will store persistent data, that can be recalled after the immediate session is closed.\n",
    "\n",
    "- title: Model and Object-Oriented Programming\n",
    "- toc: true\n",
    "- categories: []\n",
    "- image: /images/python.png\n",
    "- type: pbl\n",
    "- week: 18"
   ]
  },
  {
   "cell_type": "code",
   "execution_count": null,
   "metadata": {},
   "outputs": [],
   "source": [
    "db = SQLAlchemy(app)\n",
    "\n",
    "\"\"\" database dependencies to support sqliteDB examples \"\"\"\n",
    "\n",
    "from __init__ import app, db\n",
    "from sqlalchemy.exc import IntegrityError\n",
    "from werkzeug.security import generate_password_hash, check_password_hash\n",
    "\n",
    "\n",
    "\"\"\" Key additions to User Class for Schema definition \"\"\"\n",
    "\n",
    "# Define the User class to manage actions in the 'users' table\n",
    "# -- Object Relational Mapping (ORM) is the key concept of SQLAlchemy\n",
    "# -- a.) db.Model is like an inner layer of the onion in ORM\n",
    "# -- b.) User represents data we want to store, something that is built on db.Model\n",
    "# -- c.) SQLAlchemy ORM is layer on top of SQLAlchemy Core, then SQLAlchemy engine, SQL\n",
    "class User(db.Model):\n",
    "    __tablename__ = 'users'  # table name is plural, class name is singular\n",
    "\n",
    "    # Define the User schema with \"vars\" from object\n",
    "    id = db.Column(db.Integer, primary_key=True)\n",
    "    _name = db.Column(db.String(255), unique=False, nullable=False)\n",
    "    _uid = db.Column(db.String(255), unique=True, nullable=False)\n",
    "    _password = db.Column(db.String(255), unique=False, nullable=False)\n",
    "    _dob = db.Column(db.Date)\n",
    "\n",
    "    # Defines a relationship between User record and Notes table, one-to-many (one user to many notes)\n",
    "    posts = db.relationship(\"Post\", cascade='all, delete', backref='users', lazy=True)\n",
    "\n",
    "    # constructor of a User object, initializes the instance variables within object (self)\n",
    "    def __init__(self, name, uid, password=\"123qwerty\", dob=date.today()):\n",
    "        self._name = name    # variables with self prefix become part of the object, \n",
    "        self._uid = uid\n",
    "        self.set_password(password)\n",
    "        self._dob = dob"
   ]
  }
 ],
 "metadata": {
  "kernelspec": {
   "display_name": "base",
   "language": "python",
   "name": "python3"
  },
  "language_info": {
   "name": "python",
   "version": "3.9.12 (main, Apr  5 2022, 01:53:17) \n[Clang 12.0.0 ]"
  },
  "orig_nbformat": 4,
  "vscode": {
   "interpreter": {
    "hash": "289762bfef0c13eec96403755dc6a123221745d77b4e51a71a7ef5c7578571d1"
   }
  }
 },
 "nbformat": 4,
 "nbformat_minor": 2
}
