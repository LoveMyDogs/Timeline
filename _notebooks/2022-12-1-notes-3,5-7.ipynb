{
 "cells": [
  {
   "cell_type": "markdown",
   "metadata": {},
   "source": [
    "# Unit 3 Sections 5-7\n",
    "> Welcome to the World of Booleans and Conditionals!\n",
    "\n",
    "- title: Teaching Plan - Booleans and Conditionals\n",
    "- toc: false\n",
    "- badges: false\n",
    "- categories: [notebook]"
   ]
  },
  {
   "cell_type": "markdown",
   "metadata": {},
   "source": [
    "## Booleans\n",
    "True and false, 1 or 0, in the ap exam they'll provide reference sheet for operators.\n",
    "\n",
    "### Selection\n",
    "Selection uses booleans to decide the action it'll take in an algorithm, an algorithm is a finite set of instructions\n",
    "\n",
    "Conditional statements, are selection in languages, you can also do if else to create more variety in your algorithm and have multiple options and paths. \n"
   ]
  },
  {
   "cell_type": "markdown",
   "metadata": {},
   "source": [
    "## Nested Conditionals, cause i'm home of \n",
    "Creates more possibilities with selected outcomes. It is basically a second condition inside one condition.\n",
    "\n",
    "Problem with pseudocode:\n",
    "The outcome will be lives - 1, so it would be 4, because it is not greater than or equal to/ lesser than or equal to. \n",
    "\n",
    "Javascript code:\n",
    "1. You get to retake the test for a 90. \n",
    "2. Isn't the two ands, therefore you go into the second else statement, and are admonished for your sweetness, cut down on sugar\n"
   ]
  },
  {
   "cell_type": "markdown",
   "metadata": {},
   "source": [
    "## Writing Nested Code Activity\n",
    "1. Write a program that fits these conditions using nested conditionals:\n",
    "    - If a person has at least 8 hours, they are experienced\n",
    "    - If a person is experienced their salary is 90k, if they have ten hours or above their salary 150k\n",
    "    - If a person is inexperienced their salary is always 50k\n",
    "    - print the salary of the person at the end and whether they are experienced or not\n"
   ]
  },
  {
   "cell_type": "code",
   "execution_count": 4,
   "metadata": {},
   "outputs": [
    {
     "name": "stdout",
     "output_type": "stream",
     "text": [
      "Are you experienced: No so your salary is 50k\n"
     ]
    }
   ],
   "source": [
    "hours = 7\n",
    "experienced: \"No\"\n",
    "salary = 0\n",
    "if hours >= 8:\n",
    "    experienced = \"Yes\"\n",
    "    if hours >= 10:\n",
    "        salary = \"150k\"\n",
    "    else:\n",
    "        salary = \"90k\"\n",
    "else:\n",
    "    experienced = \"No\"\n",
    "    salary = \"50k\"\n",
    "print(\"Are you experienced: \" + experienced + \" so your salary is \" + salary)"
   ]
  },
  {
   "cell_type": "markdown",
   "metadata": {},
   "source": [
    "## Hacks Assignments:\n",
    "**Conditionals**:\n",
    "\n",
    "- Write a program that fits these conditions using nested conditionals:\n",
    "    - If the product is expired, print \"this product is no good\"\n",
    "    - If the cost is above 50 dollars, and the product isn't expired, print \"this product is too expensive\"\n",
    "    - If the cost is 25 dollars but under 50, and the product isn't expired, print \"this is a regular product\"\n",
    "    - If the cost is under 25 dollars, print \"this is a cheap product\""
   ]
  },
  {
   "cell_type": "code",
   "execution_count": 7,
   "metadata": {},
   "outputs": [
    {
     "name": "stdout",
     "output_type": "stream",
     "text": [
      "This is a regular product\n"
     ]
    }
   ],
   "source": [
    "expir = False\n",
    "cost = 30\n",
    "\n",
    "if expir == False:\n",
    "    if cost > 50:\n",
    "        print(\"This product is too expensive\")\n",
    "    elif cost > 25:\n",
    "        print(\"This is a regular product\")\n",
    "    else:\n",
    "        print(\"This is a cheap product\")\n",
    "else:\n",
    "    print(\"This product is no good\")"
   ]
  },
  {
   "cell_type": "markdown",
   "metadata": {},
   "source": [
    "**Boolean/Conditionals**:\n",
    "- Create a multiple choice quiz that ...\n",
    "    - uses Boolean expressions\n",
    "    - uses Logical operators\n",
    "    - uses Conditional statements\n",
    "    - prompts quiz-taker with multiple options (only one can be right)\n",
    "    - has at least 3 questions\n",
    "- Points will be awarded for creativity, intricacy, and how well Boolean/Binary concepts have been intertwined"
   ]
  },
  {
   "cell_type": "code",
   "execution_count": 14,
   "metadata": {},
   "outputs": [
    {
     "name": "stdout",
     "output_type": "stream",
     "text": [
      "Get ready for this multiple choice quiz, you have to answer with a lowercase letter\n",
      "How's the vibe?\n",
      "a Bad\n",
      "b Good\n",
      "c Crazy\n",
      "d Just existing\n",
      "Nice you got it right!\n",
      "\n",
      "\n",
      "Are you having fun?\n",
      "a No\n",
      "b Yup\n",
      "c Why would I be?\n",
      "d Just move on\n",
      "Nice you got it right!\n",
      "\n",
      "\n",
      "What is 2+2?\n",
      "a Fish\n",
      "b 4\n",
      "c Bore\n",
      "d 5\n",
      "Nice you got it right!\n",
      "\n",
      "\n",
      "What are you doing when you integrate?\n",
      "a Why sudden math?\n",
      "b I dunno, grating inside of something?\n",
      "c It reverses differentiation\n",
      "d Finding the length of a line\n",
      "Nice you got it right!\n",
      "\n",
      "\n",
      "Cool, your score was 4/4\n"
     ]
    }
   ],
   "source": [
    "import random\n",
    "questions = [\"How's the vibe?\", \"Are you having fun?\", \"What is 2+2?\", \"What are you doing when you integrate?\"]\n",
    "answers = [\"Bad\", \"No\", \"4\", \"It reverses differentiation\"]\n",
    "ansOpt = {\n",
    "    \"ques0\": [\"Bad\", \"Good\", \"Crazy\", \"Just existing\"],\n",
    "    \"ques1\": [\"No\", \"Yup\", \"Why would I be?\", \"Just move on\"],\n",
    "    \"ques2\": [\"Fish\", \"4\", \"Bore\", \"5\"],\n",
    "    \"ques3\": [\"Why sudden math?\", \"I dunno, grating inside of something?\", \"It reverses differentiation\", \"Finding the length of a line\"]\n",
    "}\n",
    "\n",
    "letters = [\"a\", \"b\", \"c\", \"d\"]\n",
    "quesLength = len(questions)\n",
    "curQues = 0\n",
    "score = 0\n",
    "ranLet= 0 \n",
    "j = 0\n",
    "\n",
    "print(\"Get ready for this multiple choice quiz, you have to answer with a lowercase letter\")\n",
    "\n",
    "while curQues < quesLength:\n",
    "    j = 0\n",
    "    print(questions[curQues])\n",
    "    while j <= 3:\n",
    "        print(letters[j] + \" \" + str(ansOpt[\"ques\" + str(curQues)][j]))\n",
    "        j = j +1\n",
    "    a = str(ansOpt[\"ques\" + str(curQues)][0])\n",
    "    b = str(ansOpt[\"ques\" + str(curQues)][1])\n",
    "    c = str(ansOpt[\"ques\" + str(curQues)][2])\n",
    "    d = str(ansOpt[\"ques\" + str(curQues)][3])\n",
    "    answer = str(input())\n",
    "    if answer == \"a\":\n",
    "        answer = a\n",
    "    elif answer == \"b\":\n",
    "        answer = b\n",
    "    elif answer == \"c\":\n",
    "        answer = c\n",
    "    elif answer == \"d\":\n",
    "        answer = d\n",
    "    else:\n",
    "        print(\"You didn't input a viable answer, please remember to just do a lowercase letter\")\n",
    "    if answer == str(answers[curQues]):\n",
    "        score = score + 1\n",
    "        print(\"Nice you got it right!\")\n",
    "    else:\n",
    "        print(\"Welp, you got it wrong, gotta match what I like\")\n",
    "    print(\"\\n\")\n",
    "    curQues = curQues + 1\n",
    "    \n",
    "print(\"Cool, your score was \" + str(score) + \"/\" + str(quesLength))\n"
   ]
  }
 ],
 "metadata": {
  "kernelspec": {
   "display_name": "Python 3.9.12 ('base')",
   "language": "python",
   "name": "python3"
  },
  "language_info": {
   "codemirror_mode": {
    "name": "ipython",
    "version": 3
   },
   "file_extension": ".py",
   "mimetype": "text/x-python",
   "name": "python",
   "nbconvert_exporter": "python",
   "pygments_lexer": "ipython3",
   "version": "3.9.12"
  },
  "orig_nbformat": 4,
  "vscode": {
   "interpreter": {
    "hash": "289762bfef0c13eec96403755dc6a123221745d77b4e51a71a7ef5c7578571d1"
   }
  }
 },
 "nbformat": 4,
 "nbformat_minor": 2
}
