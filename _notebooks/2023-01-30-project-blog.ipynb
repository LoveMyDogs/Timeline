{
 "cells": [
  {
   "attachments": {},
   "cell_type": "markdown",
   "metadata": {},
   "source": [
    "# Project Blog\n",
    "\n",
    "- title: Project Blog\n",
    "- toc: true\n",
    "- categories: []\n",
    "- image: /images/python.png\n",
    "- type: pbl\n",
    "- week: 18"
   ]
  },
  {
   "attachments": {},
   "cell_type": "markdown",
   "metadata": {},
   "source": [
    "## Preview Outline\n",
    "The purpose is to allow students an easy way to choose a car that fits their desires without looking through a hoard of advertisements. My data abstraction part will show lists inside some dictionaries, that store the preferences of a user. I will show how it would be much harder to compare and show data without the list I have made for the users. The procedure will be what compares things between others and how it's necessary to provide the ideal car to a person. I'm just gonna show them stuff I'm sorry, there are if statements, there are loops, to compare and such. This will be the hardest part for now because i'm not sure which eatures I include that have this, but maybe I'll make something with the parameters of a list."
   ]
  },
  {
   "attachments": {},
   "cell_type": "markdown",
   "metadata": {},
   "source": [
    "## My Project Plan\n",
    "My algorithms and portions will be what is shown in the quiz for collegeboard, I have algorithms that require input for user preferences and what they go for. I will show the procedures that my program goes through, how it benefits others, and the lists and dictionaries that go into it. The video will show me going through the quiz, clicking on things, and then the output of what is shown. "
   ]
  }
 ],
 "metadata": {
  "kernelspec": {
   "display_name": "base",
   "language": "python",
   "name": "python3"
  },
  "language_info": {
   "name": "python",
   "version": "3.9.12 (main, Apr  5 2022, 01:53:17) \n[Clang 12.0.0 ]"
  },
  "orig_nbformat": 4,
  "vscode": {
   "interpreter": {
    "hash": "289762bfef0c13eec96403755dc6a123221745d77b4e51a71a7ef5c7578571d1"
   }
  }
 },
 "nbformat": 4,
 "nbformat_minor": 2
}
